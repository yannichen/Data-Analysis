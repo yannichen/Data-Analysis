{
 "cells": [
  {
   "cell_type": "markdown",
   "metadata": {},
   "source": [
    "yanni chen hw3"
   ]
  },
  {
   "cell_type": "markdown",
   "metadata": {},
   "source": [
    "## 1. Reference previous assignment \n",
    "my data set was documented in the previous assignment"
   ]
  },
  {
   "cell_type": "markdown",
   "metadata": {},
   "source": [
    "## 2. Retrieve the data, create a DataFrame"
   ]
  },
  {
   "cell_type": "code",
   "execution_count": 21,
   "metadata": {},
   "outputs": [],
   "source": [
    "import pandas as pd\n",
    "data=pd.read_csv('../data/raw/beers.csv')"
   ]
  },
  {
   "cell_type": "markdown",
   "metadata": {},
   "source": [
    "## 3. Using the Data\n",
    "I am going to continue my last analysis but in pandas, which answer the questions that what is size of most crafted beer, what is the avergae acoholic level, and what is the most frequent style of american brewed beers. "
   ]
  },
  {
   "cell_type": "markdown",
   "metadata": {},
   "source": [
    "I will use: 2 calulate summary statistic, 1 value count, 1 column transform(rename), and 1 visulization"
   ]
  },
  {
   "cell_type": "code",
   "execution_count": 22,
   "metadata": {},
   "outputs": [
    {
     "data": {
      "text/plain": [
       "0    12.0\n",
       "dtype: float64"
      ]
     },
     "execution_count": 22,
     "metadata": {},
     "output_type": "execute_result"
    }
   ],
   "source": [
    "#clean data frist\n",
    "data.dropna(how=\"all\")\n",
    "# what is size of most crafted beer\n",
    "data[\"ounces\"].mode()\n"
   ]
  },
  {
   "cell_type": "markdown",
   "metadata": {},
   "source": [
    "I clean data first to drop rows that contains all nan value if possible. then I use summary statistics model mode to calculate the mode of the size of crafted beer, which appears to be 12 ounces"
   ]
  },
  {
   "cell_type": "code",
   "execution_count": 23,
   "metadata": {},
   "outputs": [
    {
     "name": "stdout",
     "output_type": "stream",
     "text": [
      "0.05977342419080093\n"
     ]
    },
    {
     "data": {
      "image/png": "[encoded data removed]",
      "text/plain": [
       "<Figure size 432x288 with 1 Axes>"
      ]
     },
     "metadata": {
      "needs_background": "light"
     },
     "output_type": "display_data"
    }
   ],
   "source": [
    "#what is the avergae acoholic level\n",
    "import matplotlib.pyplot as plt\n",
    "data=data.rename(columns={'abv':'alcoholic level'})\n",
    "print(data[\"alcoholic level\"].mean())\n",
    "plt.hist(data[\"alcoholic level\"])\n",
    "plt.xlabel(\"alcoholic level\")\n",
    "plt.show()"
   ]
  },
  {
   "cell_type": "markdown",
   "metadata": {},
   "source": [
    "I rename column to \"alcoholic level\" first to make the name more straighforward and then calculate the mean of alcoholic level. I visualized the frequency of alcoholic level in a histogram and notice that the distribution of alcoholic level is roughly skew to the right, which mean will be greater than median. The average alcoholic level of the brew beer is around 0.06"
   ]
  },
  {
   "cell_type": "code",
   "execution_count": 24,
   "metadata": {},
   "outputs": [
    {
     "data": {
      "text/plain": [
       "American IPA                      424\n",
       "American Pale Ale (APA)           245\n",
       "American Amber / Red Ale          133\n",
       "American Blonde Ale               108\n",
       "American Double / Imperial IPA    105\n",
       "                                 ... \n",
       "Flanders Red Ale                    1\n",
       "Smoked Beer                         1\n",
       "Other                               1\n",
       "Wheat Ale                           1\n",
       "Grisette                            1\n",
       "Name: style, Length: 99, dtype: int64"
      ]
     },
     "execution_count": 24,
     "metadata": {},
     "output_type": "execute_result"
    }
   ],
   "source": [
    "#what is the most frequent style of american brewed beers\n",
    "data[\"style\"].value_counts()"
   ]
  },
  {
   "cell_type": "markdown",
   "metadata": {},
   "source": [
    "I use valuecount to count which style is most frequently used in american brew beers, which appears to be American IPA "
   ]
  },
  {
   "cell_type": "code",
   "execution_count": null,
   "metadata": {},
   "outputs": [],
   "source": []
  }
 ],
 "metadata": {
  "kernelspec": {
   "display_name": "Python 3",
   "language": "python",
   "name": "python3"
  },
  "language_info": {
   "codemirror_mode": {
    "name": "ipython",
    "version": 3
   },
   "file_extension": ".py",
   "mimetype": "text/x-python",
   "name": "python",
   "nbconvert_exporter": "python",
   "pygments_lexer": "ipython3",
   "version": "3.8.8"
  }
 },
 "nbformat": 4,
 "nbformat_minor": 4
}
